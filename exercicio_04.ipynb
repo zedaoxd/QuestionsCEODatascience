{
 "cells": [
  {
   "cell_type": "code",
   "execution_count": 1,
   "id": "27be2d37",
   "metadata": {
    "ExecuteTime": {
     "end_time": "2022-06-27T15:10:30.571356Z",
     "start_time": "2022-06-27T15:09:57.506093Z"
    }
   },
   "outputs": [],
   "source": [
    "# imports, settings and load data\n",
    "import pandas as pd\n",
    "from geopy.geocoders import Nominatim\n",
    "import ipywidgets as widgets\n",
    "from ipywidgets import fixed\n",
    "import plotly.express as px\n",
    "from matplotlib import gridspec\n",
    "from matplotlib import pyplot as plt\n",
    "import seaborn as sns\n",
    "import time\n",
    "from multiprocessing import Pool\n",
    "\n",
    "geolocator = Nominatim(user_agent='questions')\n",
    "data = pd.read_csv('./../datasets/kc_house_data.csv')"
   ]
  },
  {
   "cell_type": "markdown",
   "id": "c251a481",
   "metadata": {},
   "source": [
    "## 1. Qual a média dos preços de compra dos imóveis por \"Nível\"?\n",
    "    - Nível 0 -> Preço entre R$ 0 e R$ 321.950\n",
    "    - Nível 1 -> Preço entre R$ 321.950 e R$ 450.000\n",
    "    - Nível 2 -> Preço entre R$ 450.000 e R$ 645.000\n",
    "    - Nível 3 -> Preço acima de R$ 645.000"
   ]
  },
  {
   "cell_type": "code",
   "execution_count": 2,
   "id": "80c2789e",
   "metadata": {
    "ExecuteTime": {
     "end_time": "2022-06-27T15:10:30.634177Z",
     "start_time": "2022-06-27T15:10:30.571356Z"
    }
   },
   "outputs": [],
   "source": [
    "data['nivel'] = data['price'].apply(lambda x: 0 if x <= 321_950 else\n",
    "                                              1 if 321_950 < x <= 450_000 else\n",
    "                                              2 if 450_000 < x <= 645_000 else 3)"
   ]
  },
  {
   "cell_type": "code",
   "execution_count": 3,
   "id": "b3a39afc",
   "metadata": {
    "ExecuteTime": {
     "end_time": "2022-06-27T15:10:30.788116Z",
     "start_time": "2022-06-27T15:10:30.636128Z"
    }
   },
   "outputs": [
    {
     "data": {
      "text/html": [
       "<div>\n",
       "<style scoped>\n",
       "    .dataframe tbody tr th:only-of-type {\n",
       "        vertical-align: middle;\n",
       "    }\n",
       "\n",
       "    .dataframe tbody tr th {\n",
       "        vertical-align: top;\n",
       "    }\n",
       "\n",
       "    .dataframe thead th {\n",
       "        text-align: right;\n",
       "    }\n",
       "</style>\n",
       "<table border=\"1\" class=\"dataframe\">\n",
       "  <thead>\n",
       "    <tr style=\"text-align: right;\">\n",
       "      <th></th>\n",
       "      <th>nivel</th>\n",
       "      <th>price</th>\n",
       "    </tr>\n",
       "  </thead>\n",
       "  <tbody>\n",
       "    <tr>\n",
       "      <th>0</th>\n",
       "      <td>0</td>\n",
       "      <td>251557.649889</td>\n",
       "    </tr>\n",
       "    <tr>\n",
       "      <th>1</th>\n",
       "      <td>1</td>\n",
       "      <td>385688.681502</td>\n",
       "    </tr>\n",
       "    <tr>\n",
       "      <th>2</th>\n",
       "      <td>2</td>\n",
       "      <td>539730.960007</td>\n",
       "    </tr>\n",
       "    <tr>\n",
       "      <th>3</th>\n",
       "      <td>3</td>\n",
       "      <td>987540.224456</td>\n",
       "    </tr>\n",
       "  </tbody>\n",
       "</table>\n",
       "</div>"
      ],
      "text/plain": [
       "   nivel          price\n",
       "0      0  251557.649889\n",
       "1      1  385688.681502\n",
       "2      2  539730.960007\n",
       "3      3  987540.224456"
      ]
     },
     "execution_count": 3,
     "metadata": {},
     "output_type": "execute_result"
    }
   ],
   "source": [
    "data[['nivel', 'price']].groupby('nivel').mean().reset_index()"
   ]
  },
  {
   "cell_type": "markdown",
   "id": "ca20d725",
   "metadata": {},
   "source": [
    "### R:\n",
    "    - Nivel 0: média: R$ 251.557\n",
    "- Nivel 1: média: R$ 385.688\n",
    "    - Nivel 2: média: R$ 539.730\n",
    "- Nivel 3: média: R$ 987.540"
   ]
  },
  {
   "cell_type": "markdown",
   "id": "f51c2b27",
   "metadata": {},
   "source": [
    "## 2. Qual a média do tamanho da sala de estar dos imóveis por \"Size\"?\n",
    "    - Size 0 -> Tamanho entre 0 e 1427 sqft\n",
    "    - Size 1 -> Tamanho entre 1427 e 1910 sqft    \n",
    "    - Size 2 -> Tamanho entre 1910 e 2550 sqft    \n",
    "    - Size 3 -> Tamanho acima de 2550 sqft    "
   ]
  },
  {
   "cell_type": "code",
   "execution_count": 4,
   "id": "59162a5f",
   "metadata": {
    "ExecuteTime": {
     "end_time": "2022-06-27T15:10:30.803132Z",
     "start_time": "2022-06-27T15:10:30.789113Z"
    }
   },
   "outputs": [],
   "source": [
    "data['size'] = data['sqft_living'].apply(lambda x: 0 if x <= 1427 else\n",
    "                                                   1 if 1427 < x <= 1910 else\n",
    "                                                   2 if 1910 < x <= 2550 else 3)"
   ]
  },
  {
   "cell_type": "code",
   "execution_count": 5,
   "id": "d22025e1",
   "metadata": {
    "ExecuteTime": {
     "end_time": "2022-06-27T15:10:30.819031Z",
     "start_time": "2022-06-27T15:10:30.804133Z"
    }
   },
   "outputs": [
    {
     "data": {
      "text/html": [
       "<div>\n",
       "<style scoped>\n",
       "    .dataframe tbody tr th:only-of-type {\n",
       "        vertical-align: middle;\n",
       "    }\n",
       "\n",
       "    .dataframe tbody tr th {\n",
       "        vertical-align: top;\n",
       "    }\n",
       "\n",
       "    .dataframe thead th {\n",
       "        text-align: right;\n",
       "    }\n",
       "</style>\n",
       "<table border=\"1\" class=\"dataframe\">\n",
       "  <thead>\n",
       "    <tr style=\"text-align: right;\">\n",
       "      <th></th>\n",
       "      <th>size</th>\n",
       "      <th>sqft_living</th>\n",
       "    </tr>\n",
       "  </thead>\n",
       "  <tbody>\n",
       "    <tr>\n",
       "      <th>0</th>\n",
       "      <td>0</td>\n",
       "      <td>1123.832531</td>\n",
       "    </tr>\n",
       "    <tr>\n",
       "      <th>1</th>\n",
       "      <td>1</td>\n",
       "      <td>1664.962334</td>\n",
       "    </tr>\n",
       "    <tr>\n",
       "      <th>2</th>\n",
       "      <td>2</td>\n",
       "      <td>2211.792786</td>\n",
       "    </tr>\n",
       "    <tr>\n",
       "      <th>3</th>\n",
       "      <td>3</td>\n",
       "      <td>3329.607016</td>\n",
       "    </tr>\n",
       "  </tbody>\n",
       "</table>\n",
       "</div>"
      ],
      "text/plain": [
       "   size  sqft_living\n",
       "0     0  1123.832531\n",
       "1     1  1664.962334\n",
       "2     2  2211.792786\n",
       "3     3  3329.607016"
      ]
     },
     "execution_count": 5,
     "metadata": {},
     "output_type": "execute_result"
    }
   ],
   "source": [
    "data[['size', 'sqft_living']].groupby('size').mean().reset_index()"
   ]
  },
  {
   "cell_type": "markdown",
   "id": "9c8ee585",
   "metadata": {},
   "source": [
    "## R: \n",
    "    - Size 0: tamanho médio 1123 sqft\n",
    "    - Size 1: tamanho médio 1664 sqft\n",
    "    - Size 2: tamanho médio 2211 sqft\n",
    "    - Size 3: tamanho médio 3329 sqft"
   ]
  },
  {
   "cell_type": "markdown",
   "id": "7f44c931",
   "metadata": {},
   "source": [
    "## 3. Adicione as seguintes informações ao conjunto de dados original:\n",
    "    - Place ID: Identificação de localização\n",
    "    - OSM Type: Open Street Map type\n",
    "    - Coutry: Nome do País\n",
    "    - Country Code: Código do País "
   ]
  },
  {
   "cell_type": "code",
   "execution_count": null,
   "id": "d8ece586",
   "metadata": {
    "ExecuteTime": {
     "end_time": "2022-06-26T22:49:33.951748Z",
     "start_time": "2022-06-26T22:49:33.940812Z"
    }
   },
   "outputs": [],
   "source": []
  },
  {
   "cell_type": "code",
   "execution_count": 6,
   "id": "03cb1ff4",
   "metadata": {
    "ExecuteTime": {
     "end_time": "2022-06-27T15:10:31.085442Z",
     "start_time": "2022-06-27T15:10:30.820991Z"
    }
   },
   "outputs": [],
   "source": [
    "data['query'] = data[['lat', 'long']].apply(lambda x: f\"{x['lat']},{x['long']}\", axis=1)"
   ]
  },
  {
   "cell_type": "code",
   "execution_count": 7,
   "id": "ed783067",
   "metadata": {
    "ExecuteTime": {
     "end_time": "2022-06-27T15:10:31.100961Z",
     "start_time": "2022-06-27T15:10:31.086875Z"
    }
   },
   "outputs": [],
   "source": [
    "# def get_data(x):\n",
    "#     index, row = x\n",
    "#     time.sleep(3)\n",
    "    \n",
    "#     # API\n",
    "#     response = geolocator.reverse(row['query'])\n",
    "    \n",
    "#     place_id = response.raw['place_id'] if 'place_id' in response.raw else 'NA'\n",
    "#     osm_type = response.raw['osm_type'] if 'osm_type' in response.raw else 'NA'\n",
    "#     country = response.raw['address']['county'] if 'county' in response.raw['address'] else 'NA'\n",
    "#     country_code = response.raw['address']['country_code'] if 'country_code' in response.raw['address'] else 'NA'\n",
    "   \n",
    "#     return place_id, osm_type, country, country_code"
   ]
  },
  {
   "cell_type": "code",
   "execution_count": 8,
   "id": "9ebe0958",
   "metadata": {
    "ExecuteTime": {
     "end_time": "2022-06-27T15:10:37.075791Z",
     "start_time": "2022-06-27T15:10:31.101851Z"
    }
   },
   "outputs": [
    {
     "name": "stdout",
     "output_type": "stream",
     "text": [
      "time Elapsed: 0.015625\n"
     ]
    }
   ],
   "source": [
    "import defs # File with the above function\n",
    "\n",
    "df1 = data[['id', 'query']].head()\n",
    "\n",
    "p = Pool(3)\n",
    "\n",
    "start = time.process_time()\n",
    "df1[['place_id', 'osm_type', 'country', 'country_code']] = p.map(defs.get_data, df1.iterrows())\n",
    "end = time.process_time()\n",
    "\n",
    "print(f\"time Elapsed: {end - start}\")\n"
   ]
  },
  {
   "cell_type": "code",
   "execution_count": 9,
   "id": "12203f99",
   "metadata": {
    "ExecuteTime": {
     "end_time": "2022-06-27T15:10:37.091705Z",
     "start_time": "2022-06-27T15:10:37.075791Z"
    }
   },
   "outputs": [
    {
     "data": {
      "text/html": [
       "<div>\n",
       "<style scoped>\n",
       "    .dataframe tbody tr th:only-of-type {\n",
       "        vertical-align: middle;\n",
       "    }\n",
       "\n",
       "    .dataframe tbody tr th {\n",
       "        vertical-align: top;\n",
       "    }\n",
       "\n",
       "    .dataframe thead th {\n",
       "        text-align: right;\n",
       "    }\n",
       "</style>\n",
       "<table border=\"1\" class=\"dataframe\">\n",
       "  <thead>\n",
       "    <tr style=\"text-align: right;\">\n",
       "      <th></th>\n",
       "      <th>id</th>\n",
       "      <th>query</th>\n",
       "      <th>place_id</th>\n",
       "      <th>osm_type</th>\n",
       "      <th>country</th>\n",
       "      <th>country_code</th>\n",
       "    </tr>\n",
       "  </thead>\n",
       "  <tbody>\n",
       "    <tr>\n",
       "      <th>0</th>\n",
       "      <td>7129300520</td>\n",
       "      <td>47.5112,-122.257</td>\n",
       "      <td>161022547</td>\n",
       "      <td>way</td>\n",
       "      <td>King County</td>\n",
       "      <td>us</td>\n",
       "    </tr>\n",
       "    <tr>\n",
       "      <th>1</th>\n",
       "      <td>6414100192</td>\n",
       "      <td>47.721,-122.319</td>\n",
       "      <td>337363785</td>\n",
       "      <td>way</td>\n",
       "      <td>King County</td>\n",
       "      <td>us</td>\n",
       "    </tr>\n",
       "    <tr>\n",
       "      <th>2</th>\n",
       "      <td>5631500400</td>\n",
       "      <td>47.7379,-122.233</td>\n",
       "      <td>74951055</td>\n",
       "      <td>node</td>\n",
       "      <td>King County</td>\n",
       "      <td>us</td>\n",
       "    </tr>\n",
       "    <tr>\n",
       "      <th>3</th>\n",
       "      <td>2487200875</td>\n",
       "      <td>47.5208,-122.393</td>\n",
       "      <td>156726151</td>\n",
       "      <td>way</td>\n",
       "      <td>King County</td>\n",
       "      <td>us</td>\n",
       "    </tr>\n",
       "    <tr>\n",
       "      <th>4</th>\n",
       "      <td>1954400510</td>\n",
       "      <td>47.6168,-122.045</td>\n",
       "      <td>296045104</td>\n",
       "      <td>way</td>\n",
       "      <td>King County</td>\n",
       "      <td>us</td>\n",
       "    </tr>\n",
       "  </tbody>\n",
       "</table>\n",
       "</div>"
      ],
      "text/plain": [
       "           id             query   place_id osm_type      country country_code\n",
       "0  7129300520  47.5112,-122.257  161022547      way  King County           us\n",
       "1  6414100192   47.721,-122.319  337363785      way  King County           us\n",
       "2  5631500400  47.7379,-122.233   74951055     node  King County           us\n",
       "3  2487200875  47.5208,-122.393  156726151      way  King County           us\n",
       "4  1954400510  47.6168,-122.045  296045104      way  King County           us"
      ]
     },
     "execution_count": 9,
     "metadata": {},
     "output_type": "execute_result"
    }
   ],
   "source": [
    "df1"
   ]
  },
  {
   "cell_type": "markdown",
   "id": "a10d91fa",
   "metadata": {},
   "source": [
    "# 4. Aicione os seguintes filtros no Mapa:\n",
    "    - Tamanho mínimo da área  da sala de estar.\n",
    "    - Número mínimo de banheiros.\n",
    "    - Valor máximo do Preço.\n",
    "    - Tamanho máximo da área do porão.\n",
    "    - Filtro das condições do imóvel.\n",
    "    - Filtro por Ano de Construção."
   ]
  },
  {
   "cell_type": "code",
   "execution_count": 10,
   "id": "9366231c",
   "metadata": {
    "ExecuteTime": {
     "end_time": "2022-06-27T15:10:37.137582Z",
     "start_time": "2022-06-27T15:10:37.093711Z"
    }
   },
   "outputs": [],
   "source": [
    "# Button Size living room \n",
    "min_size_living_room = widgets.IntSlider(\n",
    "    value = int(data['sqft_living'].mean()), \n",
    "    min = int(data['sqft_living'].min()),\n",
    "    max = int(data['sqft_living'].max()),\n",
    "    step = 1,\n",
    "    description = 'Minimal living room area',\n",
    "    disable = False, # False = Show button\n",
    "    style = {'description_width' : 'initial'},\n",
    ")\n",
    "\n",
    "# Button Minimum number of bathrooms\n",
    "\n",
    "min_number_bathrooms = widgets.IntSlider(\n",
    "    value = int(data['bathrooms'].mean()),\n",
    "    min = int(data['bathrooms'].min()),\n",
    "    max = int(data['bathrooms'].max()),\n",
    "    step = 1,\n",
    "    description = 'Minimum number of bathrooms',\n",
    "    disable = False,\n",
    "    style = {'description_width' : 'initial'},\n",
    ")\n",
    "\n",
    "# Button Maximum Price Value\n",
    "\n",
    "max_price = widgets.IntSlider(\n",
    "    value = int(data['price'].mean()),\n",
    "    min = int(data['price'].min()),\n",
    "    max = int(data['price'].max()),\n",
    "    step = 1,\n",
    "    description = 'Maximum Price Value',\n",
    "    disable = False,\n",
    "    style = {'description_width' : 'initial'},\n",
    ")\n",
    "\n",
    "# Button Maximum size of basement area\n",
    "\n",
    "max_basement_area = widgets.IntSlider(\n",
    "    value = int(data['sqft_basement'].mean()),\n",
    "    min = int(data['sqft_basement'].min()),\n",
    "    max = int(data['sqft_basement'].max()),\n",
    "    step = 1,\n",
    "    description = 'Maximum size of basement area',\n",
    "    disable = False,\n",
    "    style = {'description_width' : 'initial'},\n",
    ")\n",
    "\n",
    "# Button Property condition filter\n",
    "condition_limit = widgets.IntSlider(\n",
    "    value = int(data['condition'].mean()),\n",
    "    min = int(data['condition'].min()),\n",
    "    max = int(data['condition'].max()),\n",
    "    step = 1,\n",
    "    description = 'Condition limit',\n",
    "    disable = False,\n",
    "    style = {'description_width' : 'initial'},\n",
    ")\n",
    "\n",
    "# Button Filter by Year of Construction\n",
    "yr_built_limit = widgets.IntSlider(\n",
    "    value = int(data['yr_built'].mean()),\n",
    "    min = int(data['yr_built'].min()),\n",
    "    max = int(data['yr_built'].max()),\n",
    "    step = 1,\n",
    "    description = 'Year Built',\n",
    "    disable = False,\n",
    "    style = {'description_width' : 'initial'},\n",
    ")\n"
   ]
  },
  {
   "cell_type": "code",
   "execution_count": 11,
   "id": "af41bed1",
   "metadata": {
    "ExecuteTime": {
     "end_time": "2022-06-27T15:10:37.153577Z",
     "start_time": "2022-06-27T15:10:37.139577Z"
    }
   },
   "outputs": [],
   "source": [
    "def update_map(data, livingRoom, numberBathrooms, maxPrice, basementArea, condicao, built):\n",
    "    df = data.loc[(data['sqft_living'] >= livingRoom) &\n",
    "                  (data['bathrooms'] >= numberBathrooms) &\n",
    "                  (data['price'] <= maxPrice) &\n",
    "                  (data['sqft_basement'] <= basementArea) &\n",
    "                  (data['condition'] == condicao) &\n",
    "                  (data['yr_built'] >= built)]\n",
    "\n",
    "    fig = px.scatter_mapbox(df,\n",
    "                           lat='lat',\n",
    "                           lon='long',\n",
    "                           color='price',\n",
    "                           size='price',\n",
    "                           color_continuous_scale=px.colors.cyclical.IceFire,\n",
    "                           size_max=15,\n",
    "                           zoom=10)\n",
    "    \n",
    "    fig.update_layout(mapbox_style='open-street-map')\n",
    "    fig.update_layout(height=600, margin={'r':0, 't':0, 'l':0, 'b':0})\n",
    "    fig.show()"
   ]
  },
  {
   "cell_type": "code",
   "execution_count": 12,
   "id": "0e096bc1",
   "metadata": {
    "ExecuteTime": {
     "end_time": "2022-06-27T15:10:59.565384Z",
     "start_time": "2022-06-27T15:10:37.154537Z"
    }
   },
   "outputs": [
    {
     "data": {
      "application/vnd.jupyter.widget-view+json": {
       "model_id": "fb9c2b803183477eb3165471183f0b54",
       "version_major": 2,
       "version_minor": 0
      },
      "text/plain": [
       "interactive(children=(IntSlider(value=2079, description='Minimal living room area', max=13540, min=290, style=…"
      ]
     },
     "metadata": {},
     "output_type": "display_data"
    }
   ],
   "source": [
    "widgets.interactive(update_map, \n",
    "                    data = fixed(data), \n",
    "                    livingRoom = min_size_living_room, \n",
    "                    numberBathrooms = min_number_bathrooms,\n",
    "                   maxPrice = max_price, \n",
    "                    basementArea = max_basement_area, \n",
    "                    condicao = condition_limit, \n",
    "                    built = yr_built_limit)"
   ]
  },
  {
   "cell_type": "markdown",
   "id": "fe4e59fc",
   "metadata": {},
   "source": [
    "## 5. Adicione os seguintes filtros no Dashboard\n",
    "    - Filtro por data disponível para compra.\n",
    "    - Variação do preço por dia.\n",
    "    - Filtro se possui vista para a água ou não."
   ]
  },
  {
   "cell_type": "code",
   "execution_count": 13,
   "id": "e69223a1",
   "metadata": {
    "ExecuteTime": {
     "end_time": "2022-06-27T15:11:00.038185Z",
     "start_time": "2022-06-27T15:10:59.565384Z"
    }
   },
   "outputs": [],
   "source": [
    "data['year'] = pd.to_datetime(data['date']).dt.strftime('%Y')\n",
    "data['date'] = pd.to_datetime(data['date']).dt.strftime('%Y-%m-%d')\n",
    "data['year_week'] = pd.to_datetime(data['date']).dt.strftime('%Y-%U')"
   ]
  },
  {
   "cell_type": "code",
   "execution_count": 14,
   "id": "96eb8401",
   "metadata": {
    "ExecuteTime": {
     "end_time": "2022-06-27T15:11:00.102012Z",
     "start_time": "2022-06-27T15:11:00.039180Z"
    }
   },
   "outputs": [],
   "source": [
    "date_limit = widgets.SelectionSlider(\n",
    "    options = data['date'].sort_values().unique().tolist(),\n",
    "    value = '2014-12-01',\n",
    "    description = 'Max available date',\n",
    "    continuous_update = False,\n",
    "    style = {'description_width' : 'initial'},\n",
    "    orientation = 'horizontal',\n",
    "    readout = True\n",
    ")\n",
    "\n",
    "year_limit = widgets.SelectionSlider(\n",
    "    options = data['yr_renovated'].sort_values().unique().tolist(),\n",
    "    value = 2000,\n",
    "    description = 'Max Year',\n",
    "    continuous_update = False,\n",
    "    style = {'description_width' : 'initial'},\n",
    "    orientation = 'horizontal',\n",
    "    readout = True\n",
    ")\n",
    "\n",
    "waterfront_limit = widgets.Checkbox(\n",
    "    value=False,\n",
    "    description='Is Waterfront?',\n",
    "    disabled=False,\n",
    "    indent=False\n",
    ")\n",
    "\n",
    "\n",
    "\n",
    "def update_map_dashboard(data, date_limit, year_limit, waterfront_limit):\n",
    "    df = data[(data['date'] <= date_limit) &\n",
    "             (data['yr_renovated'] >= year_limit) &\n",
    "             (data['waterfront'] == waterfront_limit)].copy()\n",
    "    \n",
    "    \n",
    "    fig = plt.figure(figsize=(24,12))\n",
    "    specs = gridspec.GridSpec(ncols=2, nrows=2, figure=fig)\n",
    "    \n",
    "    ax1 = fig.add_subplot(specs[0, :])\n",
    "    ax2 = fig.add_subplot(specs[1, 0])\n",
    "    ax3 = fig.add_subplot(specs[1, 1])\n",
    "    \n",
    "    # First graph\n",
    "    by_year = df[['price', 'year']].groupby('year').sum().reset_index()\n",
    "    sns.barplot(x = 'year', y = 'price', data = by_year, ax = ax1)\n",
    "    ax1.set_title('Sum Prices By Year')\n",
    "    \n",
    "    # Second graph\n",
    "    by_day = df[['price', 'date']].groupby('date').mean().reset_index()\n",
    "    sns.lineplot(x = 'date', y = 'price', data = by_day, ax = ax2)\n",
    "    plt.xticks(rotation = 90)\n",
    "    ax2.set_title('Price Change Per Day')\n",
    "    \n",
    "    # Third graph\n",
    "    by_week_of_year = df[['price', 'year_week']].groupby('year_week').mean().reset_index()\n",
    "    sns.barplot(x = 'year_week', y = 'price', data = by_week_of_year, ax = ax3)\n",
    "    plt.xticks(rotation = 90)\n",
    "    ax3.set_title('Average Price Per Week')"
   ]
  },
  {
   "cell_type": "code",
   "execution_count": 15,
   "id": "dfca2863",
   "metadata": {
    "ExecuteTime": {
     "end_time": "2022-06-27T15:11:02.653054Z",
     "start_time": "2022-06-27T15:11:00.104007Z"
    },
    "scrolled": false
   },
   "outputs": [
    {
     "data": {
      "application/vnd.jupyter.widget-view+json": {
       "model_id": "518647f1e931496da21b408b6dd1df70",
       "version_major": 2,
       "version_minor": 0
      },
      "text/plain": [
       "interactive(children=(SelectionSlider(continuous_update=False, description='Max available date', index=212, op…"
      ]
     },
     "metadata": {},
     "output_type": "display_data"
    }
   ],
   "source": [
    "widgets.interactive(update_map_dashboard, \n",
    "                    data = fixed(data), \n",
    "                    date_limit = date_limit, \n",
    "                    year_limit = year_limit, \n",
    "                    waterfront_limit = waterfront_limit)"
   ]
  },
  {
   "cell_type": "code",
   "execution_count": null,
   "id": "e095d603",
   "metadata": {},
   "outputs": [],
   "source": []
  }
 ],
 "metadata": {
  "kernelspec": {
   "display_name": "Python 3 (ipykernel)",
   "language": "python",
   "name": "python3"
  },
  "language_info": {
   "codemirror_mode": {
    "name": "ipython",
    "version": 3
   },
   "file_extension": ".py",
   "mimetype": "text/x-python",
   "name": "python",
   "nbconvert_exporter": "python",
   "pygments_lexer": "ipython3",
   "version": "3.9.12"
  },
  "varInspector": {
   "cols": {
    "lenName": 16,
    "lenType": 16,
    "lenVar": 40
   },
   "kernels_config": {
    "python": {
     "delete_cmd_postfix": "",
     "delete_cmd_prefix": "del ",
     "library": "var_list.py",
     "varRefreshCmd": "print(var_dic_list())"
    },
    "r": {
     "delete_cmd_postfix": ") ",
     "delete_cmd_prefix": "rm(",
     "library": "var_list.r",
     "varRefreshCmd": "cat(var_dic_list()) "
    }
   },
   "types_to_exclude": [
    "module",
    "function",
    "builtin_function_or_method",
    "instance",
    "_Feature"
   ],
   "window_display": false
  }
 },
 "nbformat": 4,
 "nbformat_minor": 5
}
