{
 "cells": [
  {
   "cell_type": "code",
   "execution_count": 1,
   "id": "27be2d37",
   "metadata": {
    "ExecuteTime": {
     "end_time": "2022-06-27T00:44:59.021424Z",
     "start_time": "2022-06-27T00:44:57.126417Z"
    }
   },
   "outputs": [],
   "source": [
    "# imports, settings and load data\n",
    "import pandas as pd\n",
    "from geopy.geocoders import Nominatim\n",
    "import ipywidgets as widgets\n",
    "from ipywidgets import fixed\n",
    "import plotly.express as px\n",
    "from matplotlib import gridspec\n",
    "from matplotlib import pyplot as plt\n",
    "import seaborn as sns\n",
    "import time\n",
    "from multiprocessing import Pool\n",
    "\n",
    "geolocator = Nominatim(user_agent='questions')\n",
    "data = pd.read_csv('./../datasets/kc_house_data.csv')"
   ]
  },
  {
   "cell_type": "markdown",
   "id": "c251a481",
   "metadata": {},
   "source": [
    "## 1. Qual a média dos preços de compra dos imóveis por \"Nível\"?\n",
    "    - Nível 0 -> Preço entre R$ 0 e R$ 321.950\n",
    "    - Nível 1 -> Preço entre R$ 321.950 e R$ 450.000\n",
    "    - Nível 2 -> Preço entre R$ 450.000 e R$ 645.000\n",
    "    - Nível 3 -> Preço acima de R$ 645.000"
   ]
  },
  {
   "cell_type": "code",
   "execution_count": 2,
   "id": "80c2789e",
   "metadata": {
    "ExecuteTime": {
     "end_time": "2022-06-27T00:44:59.037266Z",
     "start_time": "2022-06-27T00:44:59.022303Z"
    }
   },
   "outputs": [],
   "source": [
    "data['nivel'] = data['price'].apply(lambda x: 0 if x <= 321_950 else\n",
    "                                              1 if 321_950 < x <= 450_000 else\n",
    "                                              2 if 450_000 < x <= 645_000 else 3)"
   ]
  },
  {
   "cell_type": "code",
   "execution_count": 3,
   "id": "b3a39afc",
   "metadata": {
    "ExecuteTime": {
     "end_time": "2022-06-27T00:44:59.053223Z",
     "start_time": "2022-06-27T00:44:59.039261Z"
    }
   },
   "outputs": [
    {
     "data": {
      "text/html": [
       "<div>\n",
       "<style scoped>\n",
       "    .dataframe tbody tr th:only-of-type {\n",
       "        vertical-align: middle;\n",
       "    }\n",
       "\n",
       "    .dataframe tbody tr th {\n",
       "        vertical-align: top;\n",
       "    }\n",
       "\n",
       "    .dataframe thead th {\n",
       "        text-align: right;\n",
       "    }\n",
       "</style>\n",
       "<table border=\"1\" class=\"dataframe\">\n",
       "  <thead>\n",
       "    <tr style=\"text-align: right;\">\n",
       "      <th></th>\n",
       "      <th>nivel</th>\n",
       "      <th>price</th>\n",
       "    </tr>\n",
       "  </thead>\n",
       "  <tbody>\n",
       "    <tr>\n",
       "      <th>0</th>\n",
       "      <td>0</td>\n",
       "      <td>251557.649889</td>\n",
       "    </tr>\n",
       "    <tr>\n",
       "      <th>1</th>\n",
       "      <td>1</td>\n",
       "      <td>385688.681502</td>\n",
       "    </tr>\n",
       "    <tr>\n",
       "      <th>2</th>\n",
       "      <td>2</td>\n",
       "      <td>539730.960007</td>\n",
       "    </tr>\n",
       "    <tr>\n",
       "      <th>3</th>\n",
       "      <td>3</td>\n",
       "      <td>987540.224456</td>\n",
       "    </tr>\n",
       "  </tbody>\n",
       "</table>\n",
       "</div>"
      ],
      "text/plain": [
       "   nivel          price\n",
       "0      0  251557.649889\n",
       "1      1  385688.681502\n",
       "2      2  539730.960007\n",
       "3      3  987540.224456"
      ]
     },
     "execution_count": 3,
     "metadata": {},
     "output_type": "execute_result"
    }
   ],
   "source": [
    "data[['nivel', 'price']].groupby('nivel').mean().reset_index()"
   ]
  },
  {
   "cell_type": "markdown",
   "id": "ca20d725",
   "metadata": {},
   "source": [
    "### R:\n",
    "    - Nivel 0: média: R$ 251.557\n",
    "- Nivel 1: média: R$ 385.688\n",
    "    - Nivel 2: média: R$ 539.730\n",
    "- Nivel 3: média: R$ 987.540"
   ]
  },
  {
   "cell_type": "markdown",
   "id": "f51c2b27",
   "metadata": {},
   "source": [
    "## 2. Qual a média do tamanho da sala de estar dos imóveis por \"Size\"?\n",
    "    - Size 0 -> Tamanho entre 0 e 1427 sqft\n",
    "    - Size 1 -> Tamanho entre 1427 e 1910 sqft    \n",
    "    - Size 2 -> Tamanho entre 1910 e 2550 sqft    \n",
    "    - Size 3 -> Tamanho acima de 2550 sqft    "
   ]
  },
  {
   "cell_type": "code",
   "execution_count": 4,
   "id": "59162a5f",
   "metadata": {
    "ExecuteTime": {
     "end_time": "2022-06-27T00:44:59.069182Z",
     "start_time": "2022-06-27T00:44:59.054221Z"
    }
   },
   "outputs": [],
   "source": [
    "data['size'] = data['sqft_living'].apply(lambda x: 0 if x <= 1427 else\n",
    "                                                   1 if 1427 < x <= 1910 else\n",
    "                                                   2 if 1910 < x <= 2550 else 3)"
   ]
  },
  {
   "cell_type": "code",
   "execution_count": 5,
   "id": "d22025e1",
   "metadata": {
    "ExecuteTime": {
     "end_time": "2022-06-27T00:44:59.085170Z",
     "start_time": "2022-06-27T00:44:59.071185Z"
    }
   },
   "outputs": [
    {
     "data": {
      "text/html": [
       "<div>\n",
       "<style scoped>\n",
       "    .dataframe tbody tr th:only-of-type {\n",
       "        vertical-align: middle;\n",
       "    }\n",
       "\n",
       "    .dataframe tbody tr th {\n",
       "        vertical-align: top;\n",
       "    }\n",
       "\n",
       "    .dataframe thead th {\n",
       "        text-align: right;\n",
       "    }\n",
       "</style>\n",
       "<table border=\"1\" class=\"dataframe\">\n",
       "  <thead>\n",
       "    <tr style=\"text-align: right;\">\n",
       "      <th></th>\n",
       "      <th>size</th>\n",
       "      <th>sqft_living</th>\n",
       "    </tr>\n",
       "  </thead>\n",
       "  <tbody>\n",
       "    <tr>\n",
       "      <th>0</th>\n",
       "      <td>0</td>\n",
       "      <td>1123.832531</td>\n",
       "    </tr>\n",
       "    <tr>\n",
       "      <th>1</th>\n",
       "      <td>1</td>\n",
       "      <td>1664.962334</td>\n",
       "    </tr>\n",
       "    <tr>\n",
       "      <th>2</th>\n",
       "      <td>2</td>\n",
       "      <td>2211.792786</td>\n",
       "    </tr>\n",
       "    <tr>\n",
       "      <th>3</th>\n",
       "      <td>3</td>\n",
       "      <td>3329.607016</td>\n",
       "    </tr>\n",
       "  </tbody>\n",
       "</table>\n",
       "</div>"
      ],
      "text/plain": [
       "   size  sqft_living\n",
       "0     0  1123.832531\n",
       "1     1  1664.962334\n",
       "2     2  2211.792786\n",
       "3     3  3329.607016"
      ]
     },
     "execution_count": 5,
     "metadata": {},
     "output_type": "execute_result"
    }
   ],
   "source": [
    "data[['size', 'sqft_living']].groupby('size').mean().reset_index()"
   ]
  },
  {
   "cell_type": "markdown",
   "id": "9c8ee585",
   "metadata": {},
   "source": [
    "## R: \n",
    "    - Size 0: tamanho médio 1123 sqft\n",
    "    - Size 1: tamanho médio 1664 sqft\n",
    "    - Size 2: tamanho médio 2211 sqft\n",
    "    - Size 3: tamanho médio 3329 sqft"
   ]
  },
  {
   "cell_type": "markdown",
   "id": "7f44c931",
   "metadata": {},
   "source": [
    "## 3. Adicione as seguintes informações ao conjunto de dados original:\n",
    "    - Place ID: Identificação de localização\n",
    "    - OSM Type: Open Street Map type\n",
    "    - Coutry: Nome do País\n",
    "    - Country Code: Código do País "
   ]
  },
  {
   "cell_type": "code",
   "execution_count": null,
   "id": "d8ece586",
   "metadata": {
    "ExecuteTime": {
     "end_time": "2022-06-26T22:49:33.951748Z",
     "start_time": "2022-06-26T22:49:33.940812Z"
    }
   },
   "outputs": [],
   "source": []
  },
  {
   "cell_type": "code",
   "execution_count": 6,
   "id": "03cb1ff4",
   "metadata": {
    "ExecuteTime": {
     "end_time": "2022-06-27T00:44:59.383815Z",
     "start_time": "2022-06-27T00:44:59.087134Z"
    }
   },
   "outputs": [],
   "source": [
    "data['query'] = data[['lat', 'long']].apply(lambda x: f\"{x['lat']},{x['long']}\", axis=1)"
   ]
  },
  {
   "cell_type": "code",
   "execution_count": 7,
   "id": "ed783067",
   "metadata": {
    "ExecuteTime": {
     "end_time": "2022-06-27T00:44:59.399952Z",
     "start_time": "2022-06-27T00:44:59.384822Z"
    }
   },
   "outputs": [],
   "source": [
    "# def get_data(x):\n",
    "#     index, row = x\n",
    "#     time.sleep(3)\n",
    "    \n",
    "#     # API\n",
    "#     response = geolocator.reverse(row['query'])\n",
    "    \n",
    "#     place_id = response.raw['place_id'] if 'place_id' in response.raw else 'NA'\n",
    "#     osm_type = response.raw['osm_type'] if 'osm_type' in response.raw else 'NA'\n",
    "#     country = response.raw['address']['county'] if 'county' in response.raw['address'] else 'NA'\n",
    "#     country_code = response.raw['address']['country_code'] if 'country_code' in response.raw['address'] else 'NA'\n",
    "   \n",
    "#     return place_id, osm_type, country, country_code"
   ]
  },
  {
   "cell_type": "code",
   "execution_count": 8,
   "id": "9ebe0958",
   "metadata": {
    "ExecuteTime": {
     "end_time": "2022-06-27T00:45:11.099270Z",
     "start_time": "2022-06-27T00:44:59.400778Z"
    }
   },
   "outputs": [
    {
     "ename": "GeocoderUnavailable",
     "evalue": "HTTPSConnectionPool(host='nominatim.openstreetmap.org', port=443): Max retries exceeded with url: /reverse?lat=47.721&lon=-122.319&format=json&addressdetails=1 (Caused by ConnectTimeoutError(<urllib3.connection.HTTPSConnection object at 0x000001E81F45D3D0>, 'Connection to nominatim.openstreetmap.org timed out. (connect timeout=1)'))",
     "output_type": "error",
     "traceback": [
      "\u001b[1;31m---------------------------------------------------------------------------\u001b[0m",
      "\u001b[1;31mRemoteTraceback\u001b[0m                           Traceback (most recent call last)",
      "\u001b[1;31mRemoteTraceback\u001b[0m: \n\"\"\"\nTraceback (most recent call last):\n  File \"D:\\Aplications\\Anaconda\\lib\\site-packages\\urllib3\\connection.py\", line 174, in _new_conn\n    conn = connection.create_connection(\n  File \"D:\\Aplications\\Anaconda\\lib\\site-packages\\urllib3\\util\\connection.py\", line 95, in create_connection\n    raise err\n  File \"D:\\Aplications\\Anaconda\\lib\\site-packages\\urllib3\\util\\connection.py\", line 85, in create_connection\n    sock.connect(sa)\nsocket.timeout: timed out\n\nDuring handling of the above exception, another exception occurred:\n\nTraceback (most recent call last):\n  File \"D:\\Aplications\\Anaconda\\lib\\site-packages\\urllib3\\connectionpool.py\", line 703, in urlopen\n    httplib_response = self._make_request(\n  File \"D:\\Aplications\\Anaconda\\lib\\site-packages\\urllib3\\connectionpool.py\", line 386, in _make_request\n    self._validate_conn(conn)\n  File \"D:\\Aplications\\Anaconda\\lib\\site-packages\\urllib3\\connectionpool.py\", line 1040, in _validate_conn\n    conn.connect()\n  File \"D:\\Aplications\\Anaconda\\lib\\site-packages\\urllib3\\connection.py\", line 358, in connect\n    self.sock = conn = self._new_conn()\n  File \"D:\\Aplications\\Anaconda\\lib\\site-packages\\urllib3\\connection.py\", line 179, in _new_conn\n    raise ConnectTimeoutError(\nurllib3.exceptions.ConnectTimeoutError: (<urllib3.connection.HTTPSConnection object at 0x000001E81F45D3D0>, 'Connection to nominatim.openstreetmap.org timed out. (connect timeout=1)')\n\nDuring handling of the above exception, another exception occurred:\n\nTraceback (most recent call last):\n  File \"D:\\Aplications\\Anaconda\\lib\\site-packages\\requests\\adapters.py\", line 440, in send\n    resp = conn.urlopen(\n  File \"D:\\Aplications\\Anaconda\\lib\\site-packages\\urllib3\\connectionpool.py\", line 813, in urlopen\n    return self.urlopen(\n  File \"D:\\Aplications\\Anaconda\\lib\\site-packages\\urllib3\\connectionpool.py\", line 813, in urlopen\n    return self.urlopen(\n  File \"D:\\Aplications\\Anaconda\\lib\\site-packages\\urllib3\\connectionpool.py\", line 785, in urlopen\n    retries = retries.increment(\n  File \"D:\\Aplications\\Anaconda\\lib\\site-packages\\urllib3\\util\\retry.py\", line 592, in increment\n    raise MaxRetryError(_pool, url, error or ResponseError(cause))\nurllib3.exceptions.MaxRetryError: HTTPSConnectionPool(host='nominatim.openstreetmap.org', port=443): Max retries exceeded with url: /reverse?lat=47.721&lon=-122.319&format=json&addressdetails=1 (Caused by ConnectTimeoutError(<urllib3.connection.HTTPSConnection object at 0x000001E81F45D3D0>, 'Connection to nominatim.openstreetmap.org timed out. (connect timeout=1)'))\n\nDuring handling of the above exception, another exception occurred:\n\nTraceback (most recent call last):\n  File \"D:\\Aplications\\Anaconda\\lib\\site-packages\\geopy\\adapters.py\", line 448, in _request\n    resp = self.session.get(url, timeout=timeout, headers=headers)\n  File \"D:\\Aplications\\Anaconda\\lib\\site-packages\\requests\\sessions.py\", line 542, in get\n    return self.request('GET', url, **kwargs)\n  File \"D:\\Aplications\\Anaconda\\lib\\site-packages\\requests\\sessions.py\", line 529, in request\n    resp = self.send(prep, **send_kwargs)\n  File \"D:\\Aplications\\Anaconda\\lib\\site-packages\\requests\\sessions.py\", line 645, in send\n    r = adapter.send(request, **kwargs)\n  File \"D:\\Aplications\\Anaconda\\lib\\site-packages\\requests\\adapters.py\", line 507, in send\n    raise ConnectTimeout(e, request=request)\nrequests.exceptions.ConnectTimeout: HTTPSConnectionPool(host='nominatim.openstreetmap.org', port=443): Max retries exceeded with url: /reverse?lat=47.721&lon=-122.319&format=json&addressdetails=1 (Caused by ConnectTimeoutError(<urllib3.connection.HTTPSConnection object at 0x000001E81F45D3D0>, 'Connection to nominatim.openstreetmap.org timed out. (connect timeout=1)'))\n\nDuring handling of the above exception, another exception occurred:\n\nTraceback (most recent call last):\n  File \"D:\\Aplications\\Anaconda\\lib\\multiprocessing\\pool.py\", line 125, in worker\n    result = (True, func(*args, **kwds))\n  File \"D:\\Aplications\\Anaconda\\lib\\multiprocessing\\pool.py\", line 48, in mapstar\n    return list(map(*args))\n  File \"D:\\Codes\\CursoPythonMeigaronREPOS\\curso_python_zero_ao_ds\\exercicios\\defs.py\", line 14, in get_data\n    response = geolocator.reverse(row['query'])\n  File \"D:\\Aplications\\Anaconda\\lib\\site-packages\\geopy\\geocoders\\nominatim.py\", line 362, in reverse\n    return self._call_geocoder(url, callback, timeout=timeout)\n  File \"D:\\Aplications\\Anaconda\\lib\\site-packages\\geopy\\geocoders\\base.py\", line 368, in _call_geocoder\n    result = self.adapter.get_json(url, timeout=timeout, headers=req_headers)\n  File \"D:\\Aplications\\Anaconda\\lib\\site-packages\\geopy\\adapters.py\", line 438, in get_json\n    resp = self._request(url, timeout=timeout, headers=headers)\n  File \"D:\\Aplications\\Anaconda\\lib\\site-packages\\geopy\\adapters.py\", line 460, in _request\n    raise GeocoderUnavailable(message)\ngeopy.exc.GeocoderUnavailable: HTTPSConnectionPool(host='nominatim.openstreetmap.org', port=443): Max retries exceeded with url: /reverse?lat=47.721&lon=-122.319&format=json&addressdetails=1 (Caused by ConnectTimeoutError(<urllib3.connection.HTTPSConnection object at 0x000001E81F45D3D0>, 'Connection to nominatim.openstreetmap.org timed out. (connect timeout=1)'))\n\"\"\"",
      "\nThe above exception was the direct cause of the following exception:\n",
      "\u001b[1;31mGeocoderUnavailable\u001b[0m                       Traceback (most recent call last)",
      "Input \u001b[1;32mIn [8]\u001b[0m, in \u001b[0;36m<cell line: 8>\u001b[1;34m()\u001b[0m\n\u001b[0;32m      5\u001b[0m p \u001b[38;5;241m=\u001b[39m Pool(\u001b[38;5;241m3\u001b[39m)\n\u001b[0;32m      7\u001b[0m start \u001b[38;5;241m=\u001b[39m time\u001b[38;5;241m.\u001b[39mprocess_time()\n\u001b[1;32m----> 8\u001b[0m df1[[\u001b[38;5;124m'\u001b[39m\u001b[38;5;124mplace_id\u001b[39m\u001b[38;5;124m'\u001b[39m, \u001b[38;5;124m'\u001b[39m\u001b[38;5;124mosm_type\u001b[39m\u001b[38;5;124m'\u001b[39m, \u001b[38;5;124m'\u001b[39m\u001b[38;5;124mcountry\u001b[39m\u001b[38;5;124m'\u001b[39m, \u001b[38;5;124m'\u001b[39m\u001b[38;5;124mcountry_code\u001b[39m\u001b[38;5;124m'\u001b[39m]] \u001b[38;5;241m=\u001b[39m \u001b[43mp\u001b[49m\u001b[38;5;241;43m.\u001b[39;49m\u001b[43mmap\u001b[49m\u001b[43m(\u001b[49m\u001b[43mdefs\u001b[49m\u001b[38;5;241;43m.\u001b[39;49m\u001b[43mget_data\u001b[49m\u001b[43m,\u001b[49m\u001b[43m \u001b[49m\u001b[43mdf1\u001b[49m\u001b[38;5;241;43m.\u001b[39;49m\u001b[43miterrows\u001b[49m\u001b[43m(\u001b[49m\u001b[43m)\u001b[49m\u001b[43m)\u001b[49m\n\u001b[0;32m      9\u001b[0m end \u001b[38;5;241m=\u001b[39m time\u001b[38;5;241m.\u001b[39mprocess_time()\n\u001b[0;32m     11\u001b[0m \u001b[38;5;28mprint\u001b[39m(\u001b[38;5;124mf\u001b[39m\u001b[38;5;124m\"\u001b[39m\u001b[38;5;124mtime Elapsed: \u001b[39m\u001b[38;5;132;01m{\u001b[39;00mend \u001b[38;5;241m-\u001b[39m start\u001b[38;5;132;01m}\u001b[39;00m\u001b[38;5;124m\"\u001b[39m)\n",
      "File \u001b[1;32mD:\\Aplications\\Anaconda\\lib\\multiprocessing\\pool.py:364\u001b[0m, in \u001b[0;36mPool.map\u001b[1;34m(self, func, iterable, chunksize)\u001b[0m\n\u001b[0;32m    359\u001b[0m \u001b[38;5;28;01mdef\u001b[39;00m \u001b[38;5;21mmap\u001b[39m(\u001b[38;5;28mself\u001b[39m, func, iterable, chunksize\u001b[38;5;241m=\u001b[39m\u001b[38;5;28;01mNone\u001b[39;00m):\n\u001b[0;32m    360\u001b[0m     \u001b[38;5;124;03m'''\u001b[39;00m\n\u001b[0;32m    361\u001b[0m \u001b[38;5;124;03m    Apply `func` to each element in `iterable`, collecting the results\u001b[39;00m\n\u001b[0;32m    362\u001b[0m \u001b[38;5;124;03m    in a list that is returned.\u001b[39;00m\n\u001b[0;32m    363\u001b[0m \u001b[38;5;124;03m    '''\u001b[39;00m\n\u001b[1;32m--> 364\u001b[0m     \u001b[38;5;28;01mreturn\u001b[39;00m \u001b[38;5;28;43mself\u001b[39;49m\u001b[38;5;241;43m.\u001b[39;49m\u001b[43m_map_async\u001b[49m\u001b[43m(\u001b[49m\u001b[43mfunc\u001b[49m\u001b[43m,\u001b[49m\u001b[43m \u001b[49m\u001b[43miterable\u001b[49m\u001b[43m,\u001b[49m\u001b[43m \u001b[49m\u001b[43mmapstar\u001b[49m\u001b[43m,\u001b[49m\u001b[43m \u001b[49m\u001b[43mchunksize\u001b[49m\u001b[43m)\u001b[49m\u001b[38;5;241;43m.\u001b[39;49m\u001b[43mget\u001b[49m\u001b[43m(\u001b[49m\u001b[43m)\u001b[49m\n",
      "File \u001b[1;32mD:\\Aplications\\Anaconda\\lib\\multiprocessing\\pool.py:771\u001b[0m, in \u001b[0;36mApplyResult.get\u001b[1;34m(self, timeout)\u001b[0m\n\u001b[0;32m    769\u001b[0m     \u001b[38;5;28;01mreturn\u001b[39;00m \u001b[38;5;28mself\u001b[39m\u001b[38;5;241m.\u001b[39m_value\n\u001b[0;32m    770\u001b[0m \u001b[38;5;28;01melse\u001b[39;00m:\n\u001b[1;32m--> 771\u001b[0m     \u001b[38;5;28;01mraise\u001b[39;00m \u001b[38;5;28mself\u001b[39m\u001b[38;5;241m.\u001b[39m_value\n",
      "\u001b[1;31mGeocoderUnavailable\u001b[0m: HTTPSConnectionPool(host='nominatim.openstreetmap.org', port=443): Max retries exceeded with url: /reverse?lat=47.721&lon=-122.319&format=json&addressdetails=1 (Caused by ConnectTimeoutError(<urllib3.connection.HTTPSConnection object at 0x000001E81F45D3D0>, 'Connection to nominatim.openstreetmap.org timed out. (connect timeout=1)'))"
     ]
    }
   ],
   "source": [
    "import defs # File with the above function\n",
    "\n",
    "df1 = data[['id', 'query']].head()\n",
    "\n",
    "p = Pool(3)\n",
    "\n",
    "start = time.process_time()\n",
    "df1[['place_id', 'osm_type', 'country', 'country_code']] = p.map(defs.get_data, df1.iterrows())\n",
    "end = time.process_time()\n",
    "\n",
    "print(f\"time Elapsed: {end - start}\")\n"
   ]
  },
  {
   "cell_type": "code",
   "execution_count": 9,
   "id": "12203f99",
   "metadata": {
    "ExecuteTime": {
     "end_time": "2022-06-27T00:45:23.493394Z",
     "start_time": "2022-06-27T00:45:23.472266Z"
    }
   },
   "outputs": [
    {
     "data": {
      "text/html": [
       "<div>\n",
       "<style scoped>\n",
       "    .dataframe tbody tr th:only-of-type {\n",
       "        vertical-align: middle;\n",
       "    }\n",
       "\n",
       "    .dataframe tbody tr th {\n",
       "        vertical-align: top;\n",
       "    }\n",
       "\n",
       "    .dataframe thead th {\n",
       "        text-align: right;\n",
       "    }\n",
       "</style>\n",
       "<table border=\"1\" class=\"dataframe\">\n",
       "  <thead>\n",
       "    <tr style=\"text-align: right;\">\n",
       "      <th></th>\n",
       "      <th>id</th>\n",
       "      <th>query</th>\n",
       "    </tr>\n",
       "  </thead>\n",
       "  <tbody>\n",
       "    <tr>\n",
       "      <th>0</th>\n",
       "      <td>7129300520</td>\n",
       "      <td>47.5112,-122.257</td>\n",
       "    </tr>\n",
       "    <tr>\n",
       "      <th>1</th>\n",
       "      <td>6414100192</td>\n",
       "      <td>47.721,-122.319</td>\n",
       "    </tr>\n",
       "    <tr>\n",
       "      <th>2</th>\n",
       "      <td>5631500400</td>\n",
       "      <td>47.7379,-122.233</td>\n",
       "    </tr>\n",
       "    <tr>\n",
       "      <th>3</th>\n",
       "      <td>2487200875</td>\n",
       "      <td>47.5208,-122.393</td>\n",
       "    </tr>\n",
       "    <tr>\n",
       "      <th>4</th>\n",
       "      <td>1954400510</td>\n",
       "      <td>47.6168,-122.045</td>\n",
       "    </tr>\n",
       "  </tbody>\n",
       "</table>\n",
       "</div>"
      ],
      "text/plain": [
       "           id             query\n",
       "0  7129300520  47.5112,-122.257\n",
       "1  6414100192   47.721,-122.319\n",
       "2  5631500400  47.7379,-122.233\n",
       "3  2487200875  47.5208,-122.393\n",
       "4  1954400510  47.6168,-122.045"
      ]
     },
     "execution_count": 9,
     "metadata": {},
     "output_type": "execute_result"
    }
   ],
   "source": [
    "df1"
   ]
  },
  {
   "cell_type": "markdown",
   "id": "a10d91fa",
   "metadata": {},
   "source": [
    "# 4. Aicione os seguintes filtros no Mapa:\n",
    "    - Tamanho mínimo da área  da sala de estar.\n",
    "    - Número mínimo de banheiros.\n",
    "    - Valor máximo do Preço.\n",
    "    - Tamanho máximo da área do porão.\n",
    "    - Filtro das condições do imóvel.\n",
    "    - Filtro por Ano de Construção."
   ]
  },
  {
   "cell_type": "code",
   "execution_count": 10,
   "id": "9366231c",
   "metadata": {
    "ExecuteTime": {
     "end_time": "2022-06-27T00:45:24.067617Z",
     "start_time": "2022-06-27T00:45:24.022703Z"
    }
   },
   "outputs": [],
   "source": [
    "# Button Size living room \n",
    "min_size_living_room = widgets.IntSlider(\n",
    "    value = int(data['sqft_living'].mean()), \n",
    "    min = int(data['sqft_living'].min()),\n",
    "    max = int(data['sqft_living'].max()),\n",
    "    step = 1,\n",
    "    description = 'Minimal living room area',\n",
    "    disable = False, # False = Show button\n",
    "    style = {'description_width' : 'initial'},\n",
    ")\n",
    "\n",
    "# Button Minimum number of bathrooms\n",
    "\n",
    "min_number_bathrooms = widgets.IntSlider(\n",
    "    value = int(data['bathrooms'].mean()),\n",
    "    min = int(data['bathrooms'].min()),\n",
    "    max = int(data['bathrooms'].max()),\n",
    "    step = 1,\n",
    "    description = 'Minimum number of bathrooms',\n",
    "    disable = False,\n",
    "    style = {'description_width' : 'initial'},\n",
    ")\n",
    "\n",
    "# Button Maximum Price Value\n",
    "\n",
    "max_price = widgets.IntSlider(\n",
    "    value = int(data['price'].mean()),\n",
    "    min = int(data['price'].min()),\n",
    "    max = int(data['price'].max()),\n",
    "    step = 1,\n",
    "    description = 'Maximum Price Value',\n",
    "    disable = False,\n",
    "    style = {'description_width' : 'initial'},\n",
    ")\n",
    "\n",
    "# Button Maximum size of basement area\n",
    "\n",
    "max_basement_area = widgets.IntSlider(\n",
    "    value = int(data['sqft_basement'].mean()),\n",
    "    min = int(data['sqft_basement'].min()),\n",
    "    max = int(data['sqft_basement'].max()),\n",
    "    step = 1,\n",
    "    description = 'Maximum size of basement area',\n",
    "    disable = False,\n",
    "    style = {'description_width' : 'initial'},\n",
    ")\n",
    "\n",
    "# Button Property condition filter\n",
    "condition_limit = widgets.IntSlider(\n",
    "    value = int(data['condition'].mean()),\n",
    "    min = int(data['condition'].min()),\n",
    "    max = int(data['condition'].max()),\n",
    "    step = 1,\n",
    "    description = 'Condition limit',\n",
    "    disable = False,\n",
    "    style = {'description_width' : 'initial'},\n",
    ")\n",
    "\n",
    "# Button Filter by Year of Construction\n",
    "yr_built_limit = widgets.IntSlider(\n",
    "    value = int(data['yr_built'].mean()),\n",
    "    min = int(data['yr_built'].min()),\n",
    "    max = int(data['yr_built'].max()),\n",
    "    step = 1,\n",
    "    description = 'Year Built',\n",
    "    disable = False,\n",
    "    style = {'description_width' : 'initial'},\n",
    ")\n"
   ]
  },
  {
   "cell_type": "code",
   "execution_count": 11,
   "id": "af41bed1",
   "metadata": {
    "ExecuteTime": {
     "end_time": "2022-06-27T00:45:24.083567Z",
     "start_time": "2022-06-27T00:45:24.068581Z"
    }
   },
   "outputs": [],
   "source": [
    "def update_map(data, livingRoom, numberBathrooms, maxPrice, basementArea, condicao, built):\n",
    "    df = data.loc[(data['sqft_living'] >= livingRoom) &\n",
    "                  (data['bathrooms'] >= numberBathrooms) &\n",
    "                  (data['price'] <= maxPrice) &\n",
    "                  (data['sqft_basement'] <= basementArea) &\n",
    "                  (data['condition'] == condicao) &\n",
    "                  (data['yr_built'] >= built)]\n",
    "\n",
    "    fig = px.scatter_mapbox(df,\n",
    "                           lat='lat',\n",
    "                           lon='long',\n",
    "                           color='price',\n",
    "                           size='price',\n",
    "                           color_continuous_scale=px.colors.cyclical.IceFire,\n",
    "                           size_max=15,\n",
    "                           zoom=10)\n",
    "    \n",
    "    fig.update_layout(mapbox_style='open-street-map')\n",
    "    fig.update_layout(height=600, margin={'r':0, 't':0, 'l':0, 'b':0})\n",
    "    fig.show()"
   ]
  },
  {
   "cell_type": "code",
   "execution_count": null,
   "id": "0e096bc1",
   "metadata": {
    "ExecuteTime": {
     "end_time": "2022-06-27T00:45:24.174298Z",
     "start_time": "2022-06-27T00:45:24.174298Z"
    }
   },
   "outputs": [],
   "source": [
    "widgets.interactive(update_map, \n",
    "                    data = fixed(data), \n",
    "                    livingRoom = min_size_living_room, \n",
    "                    numberBathrooms = min_number_bathrooms,\n",
    "                   maxPrice = max_price, \n",
    "                    basementArea = max_basement_area, \n",
    "                    condicao = condition_limit, \n",
    "                    built = yr_built_limit)"
   ]
  },
  {
   "cell_type": "markdown",
   "id": "fe4e59fc",
   "metadata": {},
   "source": [
    "## 5. Adicione os seguintes filtros no Dashboard\n",
    "    - Filtro por data disponível para compra.\n",
    "    - Variação do preço por dia.\n",
    "    - Filtro se possui vista para a água ou não."
   ]
  },
  {
   "cell_type": "code",
   "execution_count": 13,
   "id": "e69223a1",
   "metadata": {
    "ExecuteTime": {
     "end_time": "2022-06-27T00:46:01.360647Z",
     "start_time": "2022-06-27T00:46:01.003131Z"
    }
   },
   "outputs": [],
   "source": [
    "data['year'] = pd.to_datetime(data['date']).dt.strftime('%Y')\n",
    "data['date'] = pd.to_datetime(data['date']).dt.strftime('%Y-%m-%d')\n",
    "data['year_week'] = pd.to_datetime(data['date']).dt.strftime('%Y-%U')"
   ]
  },
  {
   "cell_type": "code",
   "execution_count": 14,
   "id": "96eb8401",
   "metadata": {
    "ExecuteTime": {
     "end_time": "2022-06-27T00:46:02.055940Z",
     "start_time": "2022-06-27T00:46:02.004526Z"
    }
   },
   "outputs": [],
   "source": [
    "date_limit = widgets.SelectionSlider(\n",
    "    options = data['date'].sort_values().unique().tolist(),\n",
    "    value = '2014-12-01',\n",
    "    description = 'Max available date',\n",
    "    continuous_update = False,\n",
    "    style = {'description_width' : 'initial'},\n",
    "    orientation = 'horizontal',\n",
    "    readout = True\n",
    ")\n",
    "\n",
    "year_limit = widgets.SelectionSlider(\n",
    "    options = data['yr_renovated'].sort_values().unique().tolist(),\n",
    "    value = 2000,\n",
    "    description = 'Max Year',\n",
    "    continuous_update = False,\n",
    "    style = {'description_width' : 'initial'},\n",
    "    orientation = 'horizontal',\n",
    "    readout = True\n",
    ")\n",
    "\n",
    "waterfront_limit = widgets.Checkbox(\n",
    "    value=False,\n",
    "    description='Is Waterfront?',\n",
    "    disabled=False,\n",
    "    indent=False\n",
    ")\n",
    "\n",
    "\n",
    "\n",
    "def update_map_dashboard(data, date_limit, year_limit, waterfront_limit):\n",
    "    df = data[(data['date'] <= date_limit) &\n",
    "             (data['yr_renovated'] >= year_limit) &\n",
    "             (data['waterfront'] == waterfront_limit)].copy()\n",
    "    \n",
    "    \n",
    "    fig = plt.figure(figsize=(24,12))\n",
    "    specs = gridspec.GridSpec(ncols=2, nrows=2, figure=fig)\n",
    "    \n",
    "    ax1 = fig.add_subplot(specs[0, :])\n",
    "    ax2 = fig.add_subplot(specs[1, 0])\n",
    "    ax3 = fig.add_subplot(specs[1, 1])\n",
    "    \n",
    "    # First graph\n",
    "    by_year = df[['price', 'year']].groupby('year').sum().reset_index()\n",
    "    sns.barplot(x = 'year', y = 'price', data = by_year, ax = ax1)\n",
    "    ax1.set_title('Sum Prices By Year')\n",
    "    \n",
    "    # Second graph\n",
    "    by_day = df[['price', 'date']].groupby('date').mean().reset_index()\n",
    "    sns.lineplot(x = 'date', y = 'price', data = by_day, ax = ax2)\n",
    "    plt.xticks(rotation = 90)\n",
    "    ax2.set_title('Price Change Per Day')\n",
    "    \n",
    "    # Third graph\n",
    "    by_week_of_year = df[['price', 'year_week']].groupby('year_week').mean().reset_index()\n",
    "    sns.barplot(x = 'year_week', y = 'price', data = by_week_of_year, ax = ax3)\n",
    "    plt.xticks(rotation = 90)\n",
    "    ax3.set_title('Average Price Per Week')"
   ]
  },
  {
   "cell_type": "code",
   "execution_count": 15,
   "id": "dfca2863",
   "metadata": {
    "ExecuteTime": {
     "end_time": "2022-06-27T00:46:05.671640Z",
     "start_time": "2022-06-27T00:46:04.298743Z"
    },
    "scrolled": false
   },
   "outputs": [
    {
     "data": {
      "application/vnd.jupyter.widget-view+json": {
       "model_id": "3636ad7a38914918a70903efdfba9101",
       "version_major": 2,
       "version_minor": 0
      },
      "text/plain": [
       "interactive(children=(SelectionSlider(continuous_update=False, description='Max available date', index=212, op…"
      ]
     },
     "metadata": {},
     "output_type": "display_data"
    }
   ],
   "source": [
    "widgets.interactive(update_map_dashboard, \n",
    "                    data = fixed(data), \n",
    "                    date_limit = date_limit, \n",
    "                    year_limit = year_limit, \n",
    "                    waterfront_limit = waterfront_limit)"
   ]
  },
  {
   "cell_type": "code",
   "execution_count": null,
   "id": "e095d603",
   "metadata": {},
   "outputs": [],
   "source": []
  },
  {
   "cell_type": "code",
   "execution_count": null,
   "id": "5ec958d3",
   "metadata": {},
   "outputs": [],
   "source": []
  },
  {
   "cell_type": "code",
   "execution_count": null,
   "id": "1d5e7cce",
   "metadata": {},
   "outputs": [],
   "source": []
  },
  {
   "cell_type": "code",
   "execution_count": null,
   "id": "03a4cd44",
   "metadata": {},
   "outputs": [],
   "source": []
  },
  {
   "cell_type": "code",
   "execution_count": null,
   "id": "9c97824b",
   "metadata": {},
   "outputs": [],
   "source": []
  },
  {
   "cell_type": "code",
   "execution_count": null,
   "id": "8066c060",
   "metadata": {},
   "outputs": [],
   "source": []
  },
  {
   "cell_type": "code",
   "execution_count": null,
   "id": "e5a8ea39",
   "metadata": {},
   "outputs": [],
   "source": []
  },
  {
   "cell_type": "code",
   "execution_count": null,
   "id": "0e190cce",
   "metadata": {},
   "outputs": [],
   "source": []
  },
  {
   "cell_type": "code",
   "execution_count": null,
   "id": "d8699a87",
   "metadata": {},
   "outputs": [],
   "source": []
  },
  {
   "cell_type": "code",
   "execution_count": null,
   "id": "4b2a6332",
   "metadata": {},
   "outputs": [],
   "source": []
  },
  {
   "cell_type": "code",
   "execution_count": null,
   "id": "0ad25caf",
   "metadata": {},
   "outputs": [],
   "source": []
  },
  {
   "cell_type": "code",
   "execution_count": null,
   "id": "027af063",
   "metadata": {},
   "outputs": [],
   "source": []
  },
  {
   "cell_type": "code",
   "execution_count": null,
   "id": "213dcc73",
   "metadata": {},
   "outputs": [],
   "source": []
  },
  {
   "cell_type": "code",
   "execution_count": null,
   "id": "7f1de0de",
   "metadata": {},
   "outputs": [],
   "source": []
  },
  {
   "cell_type": "code",
   "execution_count": null,
   "id": "a41cb7fd",
   "metadata": {},
   "outputs": [],
   "source": []
  },
  {
   "cell_type": "code",
   "execution_count": null,
   "id": "25c7ffdd",
   "metadata": {},
   "outputs": [],
   "source": []
  }
 ],
 "metadata": {
  "kernelspec": {
   "display_name": "Python 3 (ipykernel)",
   "language": "python",
   "name": "python3"
  },
  "language_info": {
   "codemirror_mode": {
    "name": "ipython",
    "version": 3
   },
   "file_extension": ".py",
   "mimetype": "text/x-python",
   "name": "python",
   "nbconvert_exporter": "python",
   "pygments_lexer": "ipython3",
   "version": "3.9.12"
  },
  "varInspector": {
   "cols": {
    "lenName": 16,
    "lenType": 16,
    "lenVar": 40
   },
   "kernels_config": {
    "python": {
     "delete_cmd_postfix": "",
     "delete_cmd_prefix": "del ",
     "library": "var_list.py",
     "varRefreshCmd": "print(var_dic_list())"
    },
    "r": {
     "delete_cmd_postfix": ") ",
     "delete_cmd_prefix": "rm(",
     "library": "var_list.r",
     "varRefreshCmd": "cat(var_dic_list()) "
    }
   },
   "types_to_exclude": [
    "module",
    "function",
    "builtin_function_or_method",
    "instance",
    "_Feature"
   ],
   "window_display": false
  }
 },
 "nbformat": 4,
 "nbformat_minor": 5
}
